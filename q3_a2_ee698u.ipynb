{
  "nbformat": 4,
  "nbformat_minor": 0,
  "metadata": {
    "colab": {
      "name": "q3_a2_ee698u.ipynb",
      "version": "0.3.2",
      "provenance": [],
      "collapsed_sections": [],
      "include_colab_link": true
    },
    "kernelspec": {
      "name": "python3",
      "display_name": "Python 3"
    }
  },
  "cells": [
    {
      "cell_type": "markdown",
      "metadata": {
        "id": "view-in-github",
        "colab_type": "text"
      },
      "source": [
        "<a href=\"https://colab.research.google.com/github/abhinavtripathi95/ee698u/blob/master/q3_a2_ee698u.ipynb\" target=\"_parent\"><img src=\"https://colab.research.google.com/assets/colab-badge.svg\" alt=\"Open In Colab\"/></a>"
      ]
    },
    {
      "cell_type": "code",
      "metadata": {
        "id": "aereNTXN9enQ",
        "colab_type": "code",
        "colab": {}
      },
      "source": [
        "import numpy as np\n",
        "import matplotlib.pyplot as plt"
      ],
      "execution_count": 0,
      "outputs": []
    },
    {
      "cell_type": "code",
      "metadata": {
        "id": "ZN5pXXGc9jcI",
        "colab_type": "code",
        "colab": {}
      },
      "source": [
        "n = 20\n",
        "epsilon = 0.00001\n",
        "x0 = np.ones((n))\n",
        "# print(x0)"
      ],
      "execution_count": 0,
      "outputs": []
    },
    {
      "cell_type": "code",
      "metadata": {
        "id": "5Pyjiwt2-JyH",
        "colab_type": "code",
        "colab": {}
      },
      "source": [
        "gamma = np.arange(0.7, 1, 0.01)\n",
        "# print(gamma)"
      ],
      "execution_count": 0,
      "outputs": []
    },
    {
      "cell_type": "code",
      "metadata": {
        "id": "iR58C2gE-pa3",
        "colab_type": "code",
        "colab": {}
      },
      "source": [
        "# gamma = [0.7]\n",
        "eta = 0.5\n",
        "itern_req_0_5 = []\n",
        "\n",
        "for g in gamma:\n",
        "  x = np.zeros((n))\n",
        "  # Define Q matrix for every gamma\n",
        "  Q = np.zeros((n,n))\n",
        "  Q[0,0] = 1\n",
        "  for i in range(n-1):\n",
        "    Q[i+1,i+1] = Q[i,i] * g\n",
        "\n",
        "  # Now that we have obtained the Q matrix, we can \n",
        "  # see the number of iterations required for a\n",
        "  # particular value of gamma  \n",
        "  it = 0\n",
        "  while np.linalg.norm(x-x0) > epsilon:\n",
        "    grad_f = np.dot(Q,x-x0)\n",
        "#     print('grad_f: ', grad_f)\n",
        "    x = x - eta * (grad_f)\n",
        "    it = it + 1\n",
        "#     print('x1',x1)\n",
        "#     print(np.linalg.norm(x1-x0))\n",
        "  itern_req_0_5.append(it)\n",
        "#   print(itern_req_0_5)\n",
        "itern_req_0_5 = np.asarray(itern_req_0_5)"
      ],
      "execution_count": 0,
      "outputs": []
    },
    {
      "cell_type": "code",
      "metadata": {
        "id": "IGXzG2VXFEO1",
        "colab_type": "code",
        "colab": {}
      },
      "source": [
        "# gamma = [0.7]\n",
        "eta = 1\n",
        "itern_req_1_0 = []\n",
        "\n",
        "for g in gamma:\n",
        "  x = np.zeros((n))\n",
        "  \n",
        "  # Define Q matrix for every gamma\n",
        "  Q = np.zeros((n,n))\n",
        "  Q[0,0] = 1\n",
        "  for i in range(n-1):\n",
        "    Q[i+1,i+1] = Q[i,i] * g\n",
        "\n",
        "  # Now that we have obtained the Q matrix, we can \n",
        "  # see the number of iterations required for a\n",
        "  # particular value of gamma\n",
        "  it = 0\n",
        "  while np.linalg.norm(x-x0) > epsilon:\n",
        "    grad_f = np.dot(Q,x-x0)\n",
        "#     print('grad_f: ', grad_f)\n",
        "    x = x - eta * (grad_f)\n",
        "    it = it + 1\n",
        "#     print('x1',x1)\n",
        "#     print(np.linalg.norm(x1-x0))\n",
        "  itern_req_1_0.append(it)\n",
        "itern_req_1_0 = np.asarray(itern_req_1_0)"
      ],
      "execution_count": 0,
      "outputs": []
    },
    {
      "cell_type": "code",
      "metadata": {
        "id": "CcFl7M_nG8QN",
        "colab_type": "code",
        "colab": {}
      },
      "source": [
        "# print(gamma.shape)\n",
        "# print(itern_req_0_5.shape)\n",
        "# print(itern_req_1_0.shape)"
      ],
      "execution_count": 0,
      "outputs": []
    },
    {
      "cell_type": "code",
      "metadata": {
        "id": "s1siKMbaFudc",
        "colab_type": "code",
        "colab": {
          "base_uri": "https://localhost:8080/",
          "height": 299
        },
        "outputId": "83abae7c-a31e-4946-b217-9ed4e6656f66"
      },
      "source": [
        "# Plot the graphs\n",
        "\n",
        "fig, (ax1, ax2) = plt.subplots(1, 2, sharey = True)\n",
        "ax1.plot(gamma, itern_req_0_5)\n",
        "ax1.set_title('For eta = 0.5')\n",
        "ax1.set_ylabel('Number of Iterations')\n",
        "ax2.plot(gamma, itern_req_1_0)\n",
        "ax2.set_title('For eta = 1.0')\n",
        "plt.show()\n",
        "print('Note that Y axis has the same scale for both the plots')"
      ],
      "execution_count": 7,
      "outputs": [
        {
          "output_type": "display_data",
          "data": {
            "image/png": "[encoded data removed]",
            "text/plain": [
              "<Figure size 432x288 with 2 Axes>"
            ]
          },
          "metadata": {
            "tags": []
          }
        },
        {
          "output_type": "stream",
          "text": [
            "Note that Y axis has the same scale for both the plots\n"
          ],
          "name": "stdout"
        }
      ]
    },
    {
      "cell_type": "code",
      "metadata": {
        "id": "lQmEutDKAkgI",
        "colab_type": "code",
        "colab": {}
      },
      "source": [
        "# a = np.dot(Q,x0)\n",
        "# np.dot(x0,a)"
      ],
      "execution_count": 0,
      "outputs": []
    },
    {
      "cell_type": "code",
      "metadata": {
        "id": "BMvbcfg3BceA",
        "colab_type": "code",
        "colab": {}
      },
      "source": [
        "# x1 = x\n",
        "# print(Q)\n",
        "# print('x0:',x0)\n",
        "# print('x1',x1)\n",
        "# it = 0\n",
        "# eta = 0.5\n",
        "# while np.linalg.norm(x1-x0) > epsilon:\n",
        "#   grad_f = np.dot(Q,x1-x0)\n",
        "#   print('grad_f: ', grad_f)\n",
        "#   x1 = x1 - eta * (grad_f)\n",
        "#   it = it + 1\n",
        "#   print('x1',x1)\n",
        "#   print(np.linalg.norm(x1-x0))\n",
        "# print(it)"
      ],
      "execution_count": 0,
      "outputs": []
    }
  ]
}